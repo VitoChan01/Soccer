{
 "cells": [
  {
   "cell_type": "markdown",
   "id": "ef97f3a2",
   "metadata": {},
   "source": [
    "# Analysis of alternative datasets"
   ]
  },
  {
   "cell_type": "code",
   "execution_count": null,
   "id": "09698cf7",
   "metadata": {},
   "outputs": [
    {
     "ename": "",
     "evalue": "",
     "output_type": "error",
     "traceback": [
      "\u001b[1;31mRunning cells with 'base (Python 3.12.9)' requires the ipykernel package.\n",
      "\u001b[1;31m<a href='command:jupyter.createPythonEnvAndSelectController'>Create a Python Environment</a> with the required packages.\n",
      "\u001b[1;31mOr install 'ipykernel' using the command: 'conda install -n base ipykernel --update-deps --force-reinstall'"
     ]
    }
   ],
   "source": [
    "import pm4py"
   ]
  },
  {
   "cell_type": "markdown",
   "id": "0080da88",
   "metadata": {},
   "source": [
    "## World Cup Dataset"
   ]
  },
  {
   "cell_type": "code",
   "execution_count": null,
   "id": "37c7ce9a",
   "metadata": {},
   "outputs": [],
   "source": [
    "# imprt"
   ]
  }
 ],
 "metadata": {
  "kernelspec": {
   "display_name": "base",
   "language": "python",
   "name": "python3"
  },
  "language_info": {
   "name": "python",
   "version": "3.12.9"
  }
 },
 "nbformat": 4,
 "nbformat_minor": 5
}
